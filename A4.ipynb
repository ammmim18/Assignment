{
 "cells": [
  {
   "cell_type": "code",
   "execution_count": 5,
   "id": "eee3db7d-f42a-469b-be14-d668965be996",
   "metadata": {},
   "outputs": [
    {
     "name": "stdout",
     "output_type": "stream",
     "text": [
      "2733.6\n"
     ]
    }
   ],
   "source": [
    "l = [50,1,50,\"ridoy\",60,70,2,80,60,90,800,\"ridoy\", 50,60,80,60,90,45,\"inception\",50,405,50,60,50,80, \"BD\", 50.60, True,[50,60,90,80,10,50]]\n",
    "\n",
    "l1 = []\n",
    "l2 = []\n",
    "\n",
    "for i in l:\n",
    "    if type(i) == int :\n",
    "        l1.append(i)\n",
    "    elif type(i) == list :\n",
    "        l1.extend(i)\n",
    "    elif type(i) == float :\n",
    "        l1.append(i)\n",
    "    else :\n",
    "        l2.append(i)\n",
    "\n",
    "v = 0\n",
    "for i in l1:\n",
    "    v = v + i\n",
    "print(v) "
   ]
  },
  {
   "cell_type": "code",
   "execution_count": 6,
   "id": "08069335-6d0b-4e15-abb3-db842b6f1450",
   "metadata": {},
   "outputs": [
    {
     "data": {
      "text/plain": [
       "['ridoy', 'ridoy', 'inception', 'BD', True]"
      ]
     },
     "execution_count": 6,
     "metadata": {},
     "output_type": "execute_result"
    }
   ],
   "source": [
    "l2"
   ]
  },
  {
   "cell_type": "code",
   "execution_count": 3,
   "id": "2d27f078-7b92-4a98-a30b-f845c6d1e7b0",
   "metadata": {},
   "outputs": [
    {
     "data": {
      "text/plain": [
       "float"
      ]
     },
     "execution_count": 3,
     "metadata": {},
     "output_type": "execute_result"
    }
   ],
   "source": [
    "type(50.6)"
   ]
  },
  {
   "cell_type": "code",
   "execution_count": null,
   "id": "1eb7eb59-672e-4087-8eb4-a4193113f89c",
   "metadata": {},
   "outputs": [],
   "source": []
  }
 ],
 "metadata": {
  "kernelspec": {
   "display_name": "Python 3 (ipykernel)",
   "language": "python",
   "name": "python3"
  },
  "language_info": {
   "codemirror_mode": {
    "name": "ipython",
    "version": 3
   },
   "file_extension": ".py",
   "mimetype": "text/x-python",
   "name": "python",
   "nbconvert_exporter": "python",
   "pygments_lexer": "ipython3",
   "version": "3.11.7"
  }
 },
 "nbformat": 4,
 "nbformat_minor": 5
}
