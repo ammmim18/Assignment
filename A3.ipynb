{
 "cells": [
  {
   "cell_type": "markdown",
   "id": "073f3426-d485-43af-b0d6-2a14a601fcb1",
   "metadata": {},
   "source": [
    "Task 1 :"
   ]
  },
  {
   "cell_type": "code",
   "execution_count": 11,
   "id": "5698cec6-e970-4170-8401-fb2393ac6b57",
   "metadata": {},
   "outputs": [
    {
     "name": "stdin",
     "output_type": "stream",
     "text": [
      "Enter a number:  50\n"
     ]
    },
    {
     "name": "stdout",
     "output_type": "stream",
     "text": [
      "50 is positive.\n"
     ]
    }
   ],
   "source": [
    "a = int(input(\"Enter a number: \"))\n",
    "\n",
    "if a > 0:\n",
    "    print(f\"{a} is positive.\")\n",
    "\n",
    "elif a < 0:\n",
    "    print(f\"{a} is negative.\")\n",
    "\n",
    "else:\n",
    "    print(f\"{a} looks like zero\")\n",
    "    "
   ]
  },
  {
   "cell_type": "markdown",
   "id": "8e925fc7-ff8d-4798-9301-020a3bf93938",
   "metadata": {},
   "source": [
    "Task 2 :"
   ]
  },
  {
   "cell_type": "code",
   "execution_count": null,
   "id": "c8da81b2-59ea-4d68-b94e-673090caf2a8",
   "metadata": {},
   "outputs": [],
   "source": []
  },
  {
   "cell_type": "markdown",
   "id": "549d66a5-6094-424c-9d6d-4b0eedbe4acc",
   "metadata": {},
   "source": [
    "Task 3 :"
   ]
  },
  {
   "cell_type": "code",
   "execution_count": 6,
   "id": "ead82c1e-813b-49f3-987f-9a8fe34c971e",
   "metadata": {},
   "outputs": [
    {
     "name": "stdout",
     "output_type": "stream",
     "text": [
      "__________________________________(AmolNama)________________________________\n",
      "----------------------------------------------------------------------------\n"
     ]
    },
    {
     "name": "stdin",
     "output_type": "stream",
     "text": [
      "Bangla     =  5000\n",
      "English    =  90\n",
      "Math       =  60\n",
      "Python     =  40\n",
      "Management =  20\n",
      "AI         =  10\n"
     ]
    },
    {
     "name": "stdout",
     "output_type": "stream",
     "text": [
      "---------------------------------------------------\n",
      "**********************_GPA_************************\n",
      "---------------------------------------------------\n",
      "Amolnama, Dream On ^_^\n"
     ]
    }
   ],
   "source": [
    "print(\"__________________________________(AmolNama)________________________________\")\n",
    "\n",
    "print(\"----------------------------------------------------------------------------\")\n",
    "\n",
    "Bangla = int(input(\"Bangla     = \"))\n",
    "\n",
    "English = int(input(\"English    = \"))\n",
    "\n",
    "Math = int(input(\"Math       = \"))\n",
    "\n",
    "Python = int(input(\"Python     = \"))\n",
    "\n",
    "Management = int(input(\"Management = \"))\n",
    "\n",
    "AI = int(input(\"AI         = \"))\n",
    "\n",
    "\n",
    "\n",
    "\n",
    "print(\"---------------------------------------------------\")\n",
    "print(\"**********************_GPA_************************\")\n",
    "print(\"---------------------------------------------------\")\n",
    "\n",
    "if  Bangla >100 or English >100 or Math >100 or Management >100 or Python >100 or AI >100:\n",
    "    print(\"Amolnama, Dream On ^_^\")\n",
    "\n",
    "else:\n",
    "    \n",
    "    \n",
    "    #Bangla\n",
    "    \n",
    "    if Bangla >=90 and Bangla <=100:\n",
    "        print(\"Bangla     = A+\")\n",
    "    \n",
    "    elif Bangla >=80 and Bangla <=89:\n",
    "        print(\"Bangla     = B\")\n",
    "    \n",
    "    elif Bangla >=70 and Bangla <=79:\n",
    "        print(\"Bangla     = C\")\n",
    "    \n",
    "    elif Bangla >=60 and Bangla <=69:\n",
    "        print(\"Bangla     = D\")\n",
    "    \n",
    "    elif Bangla >=0 and Bangla <=59:\n",
    "        print(\"Bangla     = F\")\n",
    "    \n",
    "    else:\n",
    "        print(\"Please Enter correct number\")\n",
    "    \n",
    "    \n",
    "    #English\n",
    "    \n",
    "    \n",
    "    if English >=90 and English <=100:\n",
    "        print(\"English    = A+\")\n",
    "    \n",
    "    elif English >=80 and English <=89:\n",
    "        print(\"English    = B\")\n",
    "    \n",
    "    elif English >=70 and English <=79:\n",
    "        print(\"English    = C\")\n",
    "    \n",
    "    elif English >=60 and English <=69:\n",
    "        print(\"English    = D\")\n",
    "    \n",
    "    elif English >=0 and English <=59:\n",
    "        print(\"English    = F\")\n",
    "    \n",
    "    else:\n",
    "        print(\"Please Enter correct number\")\n",
    "    \n",
    "    \n",
    "    \n",
    "    #Math\n",
    "    \n",
    "    \n",
    "    if Math >=90 and Math <=100:\n",
    "        print(\"Math       = A+\")\n",
    "    \n",
    "    elif Math >=80 and Math <=89:\n",
    "        print(\"Math       = B\")\n",
    "    \n",
    "    elif Math >=70 and Math <=79:\n",
    "        print(\"Math       = C\")\n",
    "    \n",
    "    elif Math >=60 and Math <=69:\n",
    "        print(\"Math       = D\")\n",
    "    \n",
    "    elif Math >=0 and Math <=59:\n",
    "        print(\"Math       = F\")\n",
    "    \n",
    "    else:\n",
    "        print(\"Please Enter correct number\")\n",
    "    \n",
    "    \n",
    "    \n",
    "    #Python\n",
    "    \n",
    "    \n",
    "    \n",
    "    if Python >=90 and Python <=100:\n",
    "        print(\"Python     = A+\")\n",
    "    \n",
    "    elif Python >=80 and Python <=89:\n",
    "        print(\"Python     = B\")\n",
    "    \n",
    "    elif Python >=70 and Python <=79:\n",
    "        print(\"Python     = C\")\n",
    "    \n",
    "    elif Python >=60 and Python <=69:\n",
    "        print(\"Python     = D\")\n",
    "    \n",
    "    elif Python >=0 and Python <=59:\n",
    "        print(\"Python     = F\")\n",
    "    \n",
    "    else:\n",
    "        print(\"Please Enter correct number\")\n",
    "    \n",
    "    \n",
    "    \n",
    "    #Management\n",
    "    \n",
    "    \n",
    "    \n",
    "    if Management >=90 and Management <=100:\n",
    "        print(\"Management = A+\")\n",
    "    \n",
    "    elif Management >=80 and Management <=89:\n",
    "        print(\"Management = B\")\n",
    "    \n",
    "    elif Management >=70 and Management <=79:\n",
    "        print(\"Management = C\")\n",
    "    \n",
    "    elif Management >=60 and Management <=69:\n",
    "        print(\"Management = D\")\n",
    "    \n",
    "    elif Management >=0 and Management <=59:\n",
    "        print(\"Management = F\")\n",
    "    \n",
    "    else:\n",
    "        print(\"Please Enter correct number\")\n",
    "    \n",
    "    \n",
    "    #AI\n",
    "    \n",
    "    \n",
    "    if AI >=90 and AI <=100:\n",
    "        print(\"AI         = A+\")\n",
    "    \n",
    "    elif AI >=80 and AI <=89:\n",
    "        print(\"AI         = B\")\n",
    "    \n",
    "    elif AI >=70 and AI <=79:\n",
    "        print(\"AI         = C\")\n",
    "    \n",
    "    elif AI >=60 and AI <=69:\n",
    "        print(\"AI         = D\")\n",
    "    \n",
    "    elif AI >=0 and AI <=59:\n",
    "        print(\"AI         = F\")\n",
    "    \n",
    "    else:\n",
    "        print(\"Please Enter correct number\")\n",
    "    \n",
    "    \n",
    "    \n",
    "    Total = (Bangla + English + Math + Management + Python + AI) / 6\n",
    "    \n",
    "    if  Bangla <60 or English <60 or Math <60 or Management <60 or Python <60 or AI <60:\n",
    "        print(\"Amolnama Dorkar Nai\")\n",
    "    \n",
    "    else:\n",
    "        if Total >=90 and Total <=100:\n",
    "            print(\"Total AMOL         = A+\")\n",
    "    \n",
    "        elif Total >=80 and Total <=89:\n",
    "            print(\"Total AMOL         = B\")\n",
    "    \n",
    "        elif Total >=70 and Total <=79:\n",
    "            print(\"Total AMOL         = C\")\n",
    "    \n",
    "        elif Total >=60 and Total <=69:\n",
    "            print(\"Total AMOL         = D\")\n",
    "    \n",
    "        elif Total >=0 and Total <=59:\n",
    "            print(\"Total AMOL         = F\")\n",
    "    \n",
    "        else:\n",
    "            print(\"Please Enter correct number\")\n",
    "\n",
    "\n",
    " \n"
   ]
  },
  {
   "cell_type": "code",
   "execution_count": 2,
   "id": "74febe39-4251-4d7a-8725-3d42e9781057",
   "metadata": {},
   "outputs": [
    {
     "data": {
      "text/plain": [
       "90.0"
      ]
     },
     "execution_count": 2,
     "metadata": {},
     "output_type": "execute_result"
    }
   ],
   "source": [
    "Total = (Bangla + English + Math + Management + Python + AI) / 6\n",
    "Total"
   ]
  },
  {
   "cell_type": "code",
   "execution_count": null,
   "id": "8b6c5a69-0a1f-410f-adad-7347db8ff2e3",
   "metadata": {},
   "outputs": [],
   "source": []
  },
  {
   "cell_type": "code",
   "execution_count": null,
   "id": "ede0fed5-2ab8-4cb9-afc3-017f9f7cd9a8",
   "metadata": {},
   "outputs": [],
   "source": []
  }
 ],
 "metadata": {
  "kernelspec": {
   "display_name": "Python 3 (ipykernel)",
   "language": "python",
   "name": "python3"
  },
  "language_info": {
   "codemirror_mode": {
    "name": "ipython",
    "version": 3
   },
   "file_extension": ".py",
   "mimetype": "text/x-python",
   "name": "python",
   "nbconvert_exporter": "python",
   "pygments_lexer": "ipython3",
   "version": "3.11.7"
  }
 },
 "nbformat": 4,
 "nbformat_minor": 5
}
