{
 "cells": [
  {
   "cell_type": "code",
   "execution_count": 10,
   "id": "ec622d13-2080-42fc-b8c6-6bd36506fedd",
   "metadata": {},
   "outputs": [
    {
     "name": "stdout",
     "output_type": "stream",
     "text": [
      "Python is fun!\n",
      "Python is fun!\n",
      "!nuf si nohtyP\n",
      "14\n"
     ]
    }
   ],
   "source": [
    "a = \"Python is fun!\"\n",
    "\n",
    "# finding length\n",
    "len(a)\n",
    "\n",
    "# pirnt out the entire string\n",
    "print(a)\n",
    "\n",
    "#print individual characters using Positive indexing\n",
    "print(a[0:])\n",
    "\n",
    "#print individual characters using negative indexing\n",
    "print(a[-1::-1])\n",
    "\n",
    "# finding length\n",
    "length = len(a)\n",
    "print(length)\n",
    "\n"
   ]
  },
  {
   "cell_type": "code",
   "execution_count": null,
   "id": "66a9fb2d-9e9c-4734-a7ab-2b6879e876e1",
   "metadata": {},
   "outputs": [],
   "source": []
  },
  {
   "cell_type": "code",
   "execution_count": null,
   "id": "55eefe0a-ca04-48b3-9e42-51ef4f0e48e4",
   "metadata": {},
   "outputs": [],
   "source": []
  },
  {
   "cell_type": "code",
   "execution_count": null,
   "id": "f8c08529-aeb5-411e-818d-d9137c1a41e2",
   "metadata": {},
   "outputs": [],
   "source": []
  },
  {
   "cell_type": "code",
   "execution_count": null,
   "id": "6e8ea020-a234-42d5-b426-f635a33ea6f2",
   "metadata": {},
   "outputs": [],
   "source": []
  }
 ],
 "metadata": {
  "kernelspec": {
   "display_name": "Python 3 (ipykernel)",
   "language": "python",
   "name": "python3"
  },
  "language_info": {
   "codemirror_mode": {
    "name": "ipython",
    "version": 3
   },
   "file_extension": ".py",
   "mimetype": "text/x-python",
   "name": "python",
   "nbconvert_exporter": "python",
   "pygments_lexer": "ipython3",
   "version": "3.11.7"
  }
 },
 "nbformat": 4,
 "nbformat_minor": 5
}
