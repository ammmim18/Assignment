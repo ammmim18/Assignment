{
 "cells": [
  {
   "cell_type": "code",
   "execution_count": null,
   "id": "cbfddc15-54dd-4ffa-af69-a81ddd07fa5a",
   "metadata": {},
   "outputs": [
    {
     "name": "stdout",
     "output_type": "stream",
     "text": [
      "-------------------------\n",
      "Calculator\n",
      "-------------------------\n"
     ]
    }
   ],
   "source": [
    "print(\"-------------------------\")\n",
    "print(\"Calculator\")\n",
    "print(\"-------------------------\")\n",
    "\n",
    "numb1 = float(input(\"Insert 1st Value:\"))\n",
    "numb2 = float(input(\"Insert 2nd Value:\"))\n",
    "numb3 = float(input(\"Insert 3rd Value:\"))\n",
    "\n",
    "\n",
    "\n",
    "print(f\"{numb1} + {numb2} + {numb3} =  {numb1 + numb2 + numb3}\")\n",
    "\n",
    "print(f\"{numb1} - {numb2} - {numb3} =  {numb1 - numb2 - numb3}\")\n",
    "\n",
    "print(f\"{numb1} * {numb2} * {numb3} =  {numb1 * numb2 * numb3}\")\n",
    "\n",
    "print(f\"{numb1} / {numb2} / {numb3} =  {numb1 / numb2 / numb3}\")"
   ]
  },
  {
   "cell_type": "code",
   "execution_count": null,
   "id": "9e24cf3a-c596-4284-9de4-da9e7fa4c765",
   "metadata": {},
   "outputs": [],
   "source": []
  },
  {
   "cell_type": "code",
   "execution_count": null,
   "id": "2132715d-f077-4f9d-8b9b-5abf69b426bc",
   "metadata": {},
   "outputs": [],
   "source": []
  }
 ],
 "metadata": {
  "kernelspec": {
   "display_name": "Python 3 (ipykernel)",
   "language": "python",
   "name": "python3"
  },
  "language_info": {
   "codemirror_mode": {
    "name": "ipython",
    "version": 3
   },
   "file_extension": ".py",
   "mimetype": "text/x-python",
   "name": "python",
   "nbconvert_exporter": "python",
   "pygments_lexer": "ipython3",
   "version": "3.11.7"
  }
 },
 "nbformat": 4,
 "nbformat_minor": 5
}
